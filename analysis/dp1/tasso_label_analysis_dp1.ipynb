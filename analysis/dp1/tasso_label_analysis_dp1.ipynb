{
 "cells": [
  {
   "cell_type": "markdown",
   "id": "7f1a4464-db0e-4968-a566-b4128f80cf2a",
   "metadata": {},
   "source": [
    "## Examining the labels from tasso for DP1"
   ]
  },
  {
   "cell_type": "code",
   "execution_count": null,
   "id": "08f9bea6-0db1-45bd-92fb-a5d110274904",
   "metadata": {},
   "outputs": [],
   "source": [
    "%matplotlib widget\n",
    "import pandas as pd\n",
    "import numpy as np\n",
    "import matplotlib.pyplot as plt\n",
    "from IPython.display import Image, display, HTML\n",
    "import ipywidgets as widgets"
   ]
  },
  {
   "cell_type": "code",
   "execution_count": null,
   "id": "a73f266b-8400-4368-a917-f171c9d52713",
   "metadata": {},
   "outputs": [],
   "source": [
    "df_labels = pd.read_csv('classifications_13e240890d1341d597b3c1b7a7af00de.csv')"
   ]
  },
  {
   "cell_type": "code",
   "execution_count": null,
   "id": "dcde532b-09b0-46aa-9c8e-d0858f253f71",
   "metadata": {},
   "outputs": [],
   "source": [
    "# relabeled in tasso_relabelling_dp1.ipynb\n",
    "bad_classifications = pd.read_csv('bad_classifications_13e240890d1341d597b3c1b7a7af00de.txt',names=['classification_id'])"
   ]
  },
  {
   "cell_type": "code",
   "execution_count": null,
   "id": "1c78cd6f-d948-4283-a792-020409ac9c9a",
   "metadata": {},
   "outputs": [],
   "source": [
    "bad_classifications = bad_classifications['classification_id'].values.tolist()"
   ]
  },
  {
   "cell_type": "code",
   "execution_count": null,
   "id": "b70c49fc-eab1-4b5c-9b35-d3bb4d9f81b7",
   "metadata": {},
   "outputs": [],
   "source": [
    "w_bad_label = df_labels.loc[:,'classification_id'].apply(\n",
    "    lambda x: x in bad_classifications)\n",
    "np.sum(w_bad_label)"
   ]
  },
  {
   "cell_type": "code",
   "execution_count": null,
   "id": "eb16901a-4629-49a2-90ac-59ed1adc0697",
   "metadata": {},
   "outputs": [],
   "source": [
    "df_labels = df_labels.loc[~w_bad_label,:]"
   ]
  },
  {
   "cell_type": "code",
   "execution_count": null,
   "id": "2420f055-0ea0-45ac-9b7a-a850ef76af7e",
   "metadata": {},
   "outputs": [],
   "source": [
    "df_diasources = pd.read_csv('diasources_sampled.csv').drop('Unnamed: 0', axis=1)"
   ]
  },
  {
   "cell_type": "code",
   "execution_count": null,
   "id": "f08e91ad-8a34-4091-aace-f7534489e9a8",
   "metadata": {},
   "outputs": [],
   "source": [
    "df_uploads = pd.read_csv('uploads_sampled.csv').drop('Unnamed: 0', axis=1)"
   ]
  },
  {
   "cell_type": "code",
   "execution_count": null,
   "id": "959f7711-c32e-4334-a900-d79c922b3abf",
   "metadata": {},
   "outputs": [],
   "source": [
    "df_labels.head()"
   ]
  },
  {
   "cell_type": "code",
   "execution_count": null,
   "id": "d59b355a-6a3c-4d44-b16e-2a4460766c12",
   "metadata": {},
   "outputs": [],
   "source": [
    "df_diasources.head()"
   ]
  },
  {
   "cell_type": "code",
   "execution_count": null,
   "id": "413bb8dc-aea5-48e5-8d24-021438df388d",
   "metadata": {},
   "outputs": [],
   "source": [
    "df_uploads.head()"
   ]
  },
  {
   "cell_type": "code",
   "execution_count": null,
   "id": "b7dd6a3b-554b-4d6d-a304-fc1b6812e708",
   "metadata": {},
   "outputs": [],
   "source": [
    "df = pd.merge(df_labels, df_diasources, left_on='dia_source_id', right_on='diaSourceId')\n",
    "df = pd.merge(df, df_uploads, on='diaSourceId', how='left')"
   ]
  },
  {
   "cell_type": "code",
   "execution_count": null,
   "id": "a6b59cf1-a023-4e8a-8042-02c049dca59b",
   "metadata": {},
   "outputs": [],
   "source": [
    "# this tasso run was before DM-49687, so remove negative science SNR sources that get filtered in the pieplines\n",
    "science_snr = df['scienceFlux']/df['scienceFluxErr']\n",
    "w_neg_science = science_snr < -2\n",
    "np.sum(w_neg_science)"
   ]
  },
  {
   "cell_type": "code",
   "execution_count": null,
   "id": "2f0d7392-f6aa-433f-a142-d92ae0f13c31",
   "metadata": {},
   "outputs": [],
   "source": [
    "df = df.loc[~w_neg_science,:]"
   ]
  },
  {
   "cell_type": "code",
   "execution_count": null,
   "id": "46622bd2-a572-4a64-982c-791842129347",
   "metadata": {},
   "outputs": [],
   "source": [
    "len(df)"
   ]
  },
  {
   "cell_type": "code",
   "execution_count": null,
   "id": "d77d5fc9-fab3-4f79-b939-df4b486936e9",
   "metadata": {},
   "outputs": [],
   "source": [
    "df.loc[df['label_text'] == 'real_transient', 'label_text'] = 'real-transient'"
   ]
  },
  {
   "cell_type": "code",
   "execution_count": null,
   "id": "1f8a114d-579a-4d2f-ba63-75b8524f3908",
   "metadata": {},
   "outputs": [],
   "source": [
    "df['label_text'].value_counts()"
   ]
  },
  {
   "cell_type": "code",
   "execution_count": null,
   "id": "fbc6bfc2-369e-4ba8-9fcf-a2fd3d559a7c",
   "metadata": {},
   "outputs": [],
   "source": [
    "plt.figure()\n",
    "df['label_text'].value_counts().plot.pie()"
   ]
  },
  {
   "cell_type": "code",
   "execution_count": null,
   "id": "20622a8d-3e33-40f3-96e7-8560b9009a36",
   "metadata": {},
   "outputs": [],
   "source": [
    "reals = ['real-transient', 'trail', 'real-variable']\n",
    "boguses = ['bad-subtraction', 'noise', 'bogus', 'diffraction-spike']\n",
    "uncertain = ['dipole', 'unsure']"
   ]
  },
  {
   "cell_type": "code",
   "execution_count": null,
   "id": "b7fa3e40-d4af-4fd8-98ac-cce780ce2b35",
   "metadata": {},
   "outputs": [],
   "source": [
    "#"
   ]
  },
  {
   "cell_type": "code",
   "execution_count": null,
   "id": "5e736ef0-03c4-491c-9fac-a1b03855a5b5",
   "metadata": {},
   "outputs": [],
   "source": [
    "# these are bad classifications I should remove\n",
    "df.loc[df['label_text'] == 'real_transient', 'classification_id']"
   ]
  },
  {
   "cell_type": "code",
   "execution_count": null,
   "id": "2bf0b20d-c056-4437-bdc3-615cc924a521",
   "metadata": {},
   "outputs": [],
   "source": [
    "w_transient = df['label_text'] == 'real-transient'\n",
    "w_variable = df['label_text'] == 'real-variable'\n",
    "w_cosmic = df['label_text'] == 'cosmic'\n",
    "w_trail = df['label_text'] == 'trail'\n",
    "w_noise = df['label_text'] == 'noise'"
   ]
  },
  {
   "cell_type": "code",
   "execution_count": null,
   "id": "cff8bbeb-6684-4d3c-8f76-1256597c12ab",
   "metadata": {},
   "outputs": [],
   "source": [
    "print(np.sum(w_trail))"
   ]
  },
  {
   "cell_type": "code",
   "execution_count": null,
   "id": "4bd47757-92d7-4fa4-8c2d-fb0604178dbb",
   "metadata": {},
   "outputs": [],
   "source": [
    "\n",
    "w_real = df['label_text'].apply(lambda x: x in reals)\n",
    "w_bogus = df['label_text'].apply(lambda x: x in boguses)\n",
    "w_uncertain = df['label_text'].apply(lambda x: x in uncertain)\n",
    "n_real = np.sum(w_real)\n",
    "n_bogus = np.sum(w_bogus)\n",
    "n_uncertain = np.sum(w_uncertain)\n",
    "print(n_real, n_bogus, n_uncertain)"
   ]
  },
  {
   "cell_type": "code",
   "execution_count": null,
   "id": "ec2fd24e-c5ed-488d-bf74-ef62f121393d",
   "metadata": {},
   "outputs": [],
   "source": [
    "n_real/n_bogus"
   ]
  },
  {
   "cell_type": "code",
   "execution_count": null,
   "id": "e4aa7fd1-27d6-41e8-a7f5-e5baaeb86c9a",
   "metadata": {},
   "outputs": [],
   "source": [
    "plt.figure()\n",
    "_ = plt.hist(df.loc[w_real, 'reliability'], label='real', bins=np.linspace(0,1,50))\n",
    "plt.xlabel('Reliability Score')\n",
    "plt.ylabel('Number of DIASources')\n",
    "plt.title('All Reals')"
   ]
  },
  {
   "cell_type": "code",
   "execution_count": null,
   "id": "c604de01-cac8-401e-b3f1-7bf56b4d74e7",
   "metadata": {},
   "outputs": [],
   "source": [
    "plt.figure()\n",
    "_ = plt.hist(df.loc[w_transient, 'reliability'], label='real', bins=np.linspace(0,1,50))\n",
    "plt.xlabel('Reliability Score')\n",
    "plt.ylabel('Number of DIASources')\n",
    "plt.title('Human-labeled Real Transients')"
   ]
  },
  {
   "cell_type": "code",
   "execution_count": null,
   "id": "ec9a4380-0eee-42f2-ac9d-27bbfe6f3d04",
   "metadata": {},
   "outputs": [],
   "source": [
    "plt.figure()\n",
    "_ = plt.hist(df.loc[w_variable, 'reliability'], label='real', bins=np.linspace(0,1,50))\n",
    "plt.xlabel('Reliability Score')\n",
    "plt.ylabel('Number of DIASources')\n",
    "plt.title('Human-labeled Real Variables')"
   ]
  },
  {
   "cell_type": "code",
   "execution_count": null,
   "id": "f716d47f-5655-4132-bee0-9847176eb576",
   "metadata": {},
   "outputs": [],
   "source": [
    "plt.figure()\n",
    "\n",
    "_ = plt.hist(df.loc[w_bogus, 'reliability'], label='bogus', bins=np.linspace(0,1,50))\n",
    "plt.xlabel('Reliability Score')\n",
    "plt.ylabel('Number of DIASources')\n",
    "plt.title('Human-labeled Bogus')"
   ]
  },
  {
   "cell_type": "code",
   "execution_count": null,
   "id": "197d32c7-5e1c-4f07-a467-7674fac7cea9",
   "metadata": {},
   "outputs": [],
   "source": [
    "plt.figure()\n",
    "\n",
    "_ = plt.hist(df.loc[w_cosmic, 'reliability'], label='cosmic', bins=np.linspace(0,1,50))\n",
    "plt.xlabel('Reliability Score')\n",
    "plt.ylabel('Number of DIASources')\n",
    "plt.title('Human-labeled Cosmic Ray')"
   ]
  },
  {
   "cell_type": "code",
   "execution_count": null,
   "id": "538ad019-5ade-46be-9f6a-11f5bd6135b3",
   "metadata": {},
   "outputs": [],
   "source": [
    "np.sum(w_transient)"
   ]
  },
  {
   "cell_type": "code",
   "execution_count": null,
   "id": "3eb2e0f9-0950-4b66-bf54-0eeb55ef04fb",
   "metadata": {},
   "outputs": [],
   "source": [
    "np.sum(w_cosmic)"
   ]
  },
  {
   "cell_type": "code",
   "execution_count": null,
   "id": "a2f4599d-e76e-49a0-9697-bdd83711ee4e",
   "metadata": {},
   "outputs": [],
   "source": [
    "np.sum(w_variable)"
   ]
  },
  {
   "cell_type": "code",
   "execution_count": null,
   "id": "dba5186b-1191-4eab-8259-a52534686459",
   "metadata": {},
   "outputs": [],
   "source": []
  },
  {
   "cell_type": "code",
   "execution_count": null,
   "id": "0293c335-1adf-4f3b-a6c5-ddb34a2e35eb",
   "metadata": {},
   "outputs": [],
   "source": [
    "for idx, row in df.loc[w_noise.loc[w_noise].iloc[:10].index].iterrows():\n",
    "    display(Image(row['local_path']))"
   ]
  },
  {
   "cell_type": "markdown",
   "id": "3ce04be4-9457-4510-bfb5-36f985426902",
   "metadata": {},
   "source": [
    "### Negative calexp sources"
   ]
  },
  {
   "cell_type": "code",
   "execution_count": null,
   "id": "98743aba-77fe-4f68-9a1d-30c1eab7b2f8",
   "metadata": {},
   "outputs": [],
   "source": [
    "w_science_negative = df['scienceFlux'] < 0\n",
    "np.sum(w_science_negative)"
   ]
  },
  {
   "cell_type": "code",
   "execution_count": null,
   "id": "55e3524d-084d-4e90-bbc4-ff7f7047f87b",
   "metadata": {},
   "outputs": [],
   "source": [
    "w_science_negative.loc[w_science_negative].iloc[:100]"
   ]
  },
  {
   "cell_type": "code",
   "execution_count": null,
   "id": "4bb29bb4-d960-48f9-b6d8-11c35de4baf0",
   "metadata": {
    "scrolled": true
   },
   "outputs": [],
   "source": [
    "for idx, row in df.loc[w_science_negative.loc[w_science_negative].iloc[:100].index].iterrows():\n",
    "    display(Image(row['local_path']))"
   ]
  },
  {
   "cell_type": "code",
   "execution_count": null,
   "id": "9e6d1ada-418e-4dab-a566-61285861677a",
   "metadata": {},
   "outputs": [],
   "source": [
    "df.loc[w_science_negative, 'label_text'].value_counts()"
   ]
  },
  {
   "cell_type": "code",
   "execution_count": null,
   "id": "add3fa91-b1a5-4e55-bd91-e6cdf7af8a7e",
   "metadata": {},
   "outputs": [],
   "source": [
    "df.loc[~w_science_negative, 'label_text'].value_counts()"
   ]
  },
  {
   "cell_type": "code",
   "execution_count": null,
   "id": "49c62ec9-8fc7-4ce5-a2c7-699ba8b00591",
   "metadata": {
    "scrolled": true
   },
   "outputs": [],
   "source": [
    "for idx, row in df.loc[w_science_negative & df['label_text'].apply(lambda x: x in ['real-transient', 'real-variable'])].iterrows():\n",
    "    display(Image(row['local_path']))"
   ]
  },
  {
   "cell_type": "markdown",
   "id": "f9ccd345-6e6b-4a72-a206-44f665a9d783",
   "metadata": {},
   "source": [
    "I don't think any of these are real."
   ]
  },
  {
   "cell_type": "code",
   "execution_count": null,
   "id": "eb3ea10a-70af-4919-b974-ef0b51e240da",
   "metadata": {},
   "outputs": [],
   "source": [
    "plt.figure()\n",
    "_ = plt.hist(df['scienceFlux']/df['scienceFluxErr'],bins=100)\n",
    "plt.xlabel('scienceFlux/scienceFluxErr')\n"
   ]
  },
  {
   "cell_type": "code",
   "execution_count": null,
   "id": "b48d7a28-02d9-4d8d-8cbf-5758e0f4c434",
   "metadata": {},
   "outputs": [],
   "source": [
    "np.min(df['scienceFlux']/df['scienceFluxErr'])"
   ]
  },
  {
   "cell_type": "code",
   "execution_count": null,
   "id": "b6ab1da5-c830-4cc1-8a2b-139be6d18975",
   "metadata": {},
   "outputs": [],
   "source": [
    "plt.figure()\n",
    "_ = plt.hist(df['scienceFlux']/df['scienceFluxErr'],bins=np.linspace(-10,10,100))\n",
    "plt.xlabel('scienceFlux/scienceFluxErr')\n",
    "plt.ylabel('Number of DIASources')"
   ]
  },
  {
   "cell_type": "code",
   "execution_count": null,
   "id": "0f575915-a960-4702-a6f5-e8e209a7aba0",
   "metadata": {},
   "outputs": [],
   "source": [
    "plt.figure()\n",
    "_ = plt.hist(df['scienceFlux'],bins=np.linspace(-5000,5000,100))\n",
    "plt.xlabel('scienceFlux (nJy)')\n",
    "plt.ylabel('Number of DIASources')"
   ]
  },
  {
   "cell_type": "code",
   "execution_count": null,
   "id": "536bcf26-d04b-4e72-93f6-848875491b67",
   "metadata": {},
   "outputs": [],
   "source": [
    "np.min(df['scienceFluxErr'])"
   ]
  },
  {
   "cell_type": "markdown",
   "id": "c995c9a3-841d-424e-b536-3c317748f602",
   "metadata": {},
   "source": [
    "### Cosmic Rays"
   ]
  },
  {
   "cell_type": "code",
   "execution_count": null,
   "id": "cdaed2af-cc85-450b-b01c-c2ba6b0b4b7b",
   "metadata": {},
   "outputs": [],
   "source": [
    "# make checkboxes so I can unlabel the bad ones\n",
    "checkboxes = {idx:widgets.Checkbox(value=False, description=str(idx)) for idx, row in df.loc[w_cosmic].iterrows()}"
   ]
  },
  {
   "cell_type": "code",
   "execution_count": null,
   "id": "f994e99b-d640-48b6-8f5c-607b3b1903be",
   "metadata": {
    "scrolled": true
   },
   "outputs": [],
   "source": [
    "for idx, row in df.loc[w_cosmic].iterrows():\n",
    "    with  open(row['local_path'], \"rb\") as f:\n",
    "        image = f.read()\n",
    "        display(widgets.HBox([checkboxes[idx],widgets.Image(value=image,format='png')]))"
   ]
  },
  {
   "cell_type": "code",
   "execution_count": null,
   "id": "49d00866-fbb7-4c1b-9625-09c0a53f4e7a",
   "metadata": {},
   "outputs": [],
   "source": [
    "classifications_to_delete = []\n",
    "misclassified_subjects = []\n",
    "\n",
    "for k, checkbox in checkboxes.items():\n",
    "    if checkbox.value == True:\n",
    "        idx = float(checkbox.description)\n",
    "        classifications_to_delete.append(df.loc[idx,'classification_id'])\n",
    "        misclassified_subjects.append(df.loc[idx,'subject_id'])\n",
    "print(classifications_to_delete)"
   ]
  },
  {
   "cell_type": "code",
   "execution_count": null,
   "id": "3128e9ad-8bb9-45ea-8446-2940ef098d72",
   "metadata": {},
   "outputs": [],
   "source": [
    "print(misclassified_subjects)"
   ]
  },
  {
   "cell_type": "markdown",
   "id": "ac515c05-dcaf-4682-930f-15f2612c7da2",
   "metadata": {
    "execution": {
     "iopub.execute_input": "2025-05-05T05:30:46.370763Z",
     "iopub.status.busy": "2025-05-05T05:30:46.370501Z",
     "iopub.status.idle": "2025-05-05T05:30:46.373360Z",
     "shell.execute_reply": "2025-05-05T05:30:46.372963Z",
     "shell.execute_reply.started": "2025-05-05T05:30:46.370744Z"
    }
   },
   "source": [
    "### Trails"
   ]
  },
  {
   "cell_type": "code",
   "execution_count": null,
   "id": "b6901ac6-c954-4bde-ad20-cc0afabd5788",
   "metadata": {},
   "outputs": [],
   "source": [
    "# make checkboxes so I can unlabel the bad ones\n",
    "checkboxes = {idx:widgets.Checkbox(value=False, description=str(idx)) for idx, row in df.loc[w_trail].iterrows()}\n",
    "relabel_box = {idx:widgets.Checkbox(value=False, description=str(idx)) for idx, row in df.loc[w_trail].iterrows()}"
   ]
  },
  {
   "cell_type": "code",
   "execution_count": null,
   "id": "497995f3-4f0b-43ce-ba23-3d1cdaedba7c",
   "metadata": {},
   "outputs": [],
   "source": [
    "for idx, row in df.loc[w_trail].iterrows():\n",
    "    with  open(row['local_path'], \"rb\") as f:\n",
    "        image = f.read()\n",
    "        display(widgets.HBox([checkboxes[idx],relabel_box[idx], widgets.Image(value=image,format='png')]))"
   ]
  },
  {
   "cell_type": "code",
   "execution_count": null,
   "id": "56e33f72-2974-4ef1-8da6-0a05b36d0cd9",
   "metadata": {},
   "outputs": [],
   "source": [
    "classifications_to_delete = []\n",
    "\n",
    "for k, checkbox in checkboxes.items():\n",
    "    if checkbox.value == True:\n",
    "        idx = float(checkbox.description)\n",
    "        classifications_to_delete.append(df.loc[idx,'classification_id'])\n",
    "print(classifications_to_delete)"
   ]
  },
  {
   "cell_type": "code",
   "execution_count": null,
   "id": "04e274a6-9472-4532-a64d-c76f3c5f4eb9",
   "metadata": {},
   "outputs": [],
   "source": [
    "misclassified_subjects = []\n",
    "\n",
    "for k, checkbox in relabel_box.items():\n",
    "    if checkbox.value == True:\n",
    "        idx = float(checkbox.description)\n",
    "        misclassified_subjects.append(df.loc[idx,'subject_id'])\n",
    "print(misclassified_subjects)"
   ]
  },
  {
   "cell_type": "markdown",
   "id": "489fbdf6-db9c-4703-b389-ddc52d0f8924",
   "metadata": {},
   "source": [
    "### Real Transients"
   ]
  },
  {
   "cell_type": "code",
   "execution_count": null,
   "id": "4d2322d3-216c-4cfc-a0ea-36f8f3aaadce",
   "metadata": {},
   "outputs": [],
   "source": [
    "# make checkboxes so I can unlabel the bad ones\n",
    "checkboxes = {idx:widgets.Checkbox(value=False, description=str(idx)) for idx, row in df.loc[w_transient].iterrows()}\n",
    "relabel_box = {idx:widgets.Checkbox(value=False, description=str(idx)) for idx, row in df.loc[w_transient].iterrows()}"
   ]
  },
  {
   "cell_type": "code",
   "execution_count": null,
   "id": "4c7320c0-b882-412b-9440-0a70734c0ff4",
   "metadata": {
    "scrolled": true
   },
   "outputs": [],
   "source": [
    "for idx, row in df.loc[w_transient].iterrows():\n",
    "    with  open(row['local_path'], \"rb\") as f:\n",
    "        image = f.read()\n",
    "        display(widgets.HBox([checkboxes[idx],relabel_box[idx], widgets.Image(value=image,format='png')]))"
   ]
  },
  {
   "cell_type": "code",
   "execution_count": null,
   "id": "946b99c0-ef1d-4cb8-bb13-c4ddb82e7da4",
   "metadata": {},
   "outputs": [],
   "source": [
    "classifications_to_delete = []\n",
    "\n",
    "for k, checkbox in checkboxes.items():\n",
    "    if checkbox.value == True:\n",
    "        idx = float(checkbox.description)\n",
    "        classifications_to_delete.append(df.loc[idx,'classification_id'])\n",
    "print(classifications_to_delete)"
   ]
  },
  {
   "cell_type": "code",
   "execution_count": null,
   "id": "6d21f8d9-892d-4d41-933f-553c5a1155e0",
   "metadata": {},
   "outputs": [],
   "source": [
    "misclassified_subjects = []\n",
    "\n",
    "for k, checkbox in relabel_box.items():\n",
    "    if checkbox.value == True:\n",
    "        idx = float(checkbox.description)\n",
    "        misclassified_subjects.append(df.loc[idx,'subject_id'])\n",
    "print(misclassified_subjects)"
   ]
  },
  {
   "cell_type": "code",
   "execution_count": null,
   "id": "28d15d6a-009d-4ecc-9084-f4bbf4aa76e2",
   "metadata": {},
   "outputs": [],
   "source": [
    "relabel = ['ceec9984f8cc4d6eb52a6036dc00e800', '3d7fa6a46b6c48c69d95dd6be91f521c', 'a538fdba69634bb3a8014a1c797464a3', '933d3f247ad040e2954b29c374d86bed', '321fe1ddfd6a43798f4f70cb05b39b08', '030d602729a34d068bb582dba633b04a', 'd78b1e1156a5404984f4c2640b79f7ed', 'ed5977c1a3a24f50870b866427c829fa', '75b9fdc8c2394c5cb6476cd6132bab01', 'b21d24ded4b9428ba818fc0c18dbaa4b', '759b06485c614cc7ba9195fd6f39e1ee']"
   ]
  },
  {
   "cell_type": "code",
   "execution_count": null,
   "id": "210d90dd-b7f4-4fa8-844a-ad4a0006f268",
   "metadata": {},
   "outputs": [],
   "source": [
    "def make_links(subject_ids):\n",
    "    for subject in subject_ids:\n",
    "        display(HTML(f\"\"\"<a href='https://usdf-rsp-dev.slac.stanford.edu/tasso/subjects/{subject}' target=\"_blank\">{subject}</a>\"\"\"))"
   ]
  },
  {
   "cell_type": "code",
   "execution_count": null,
   "id": "64cb2027-9d65-46ed-80f2-7a7120a187d8",
   "metadata": {},
   "outputs": [],
   "source": [
    "make_links(relabel)"
   ]
  },
  {
   "cell_type": "code",
   "execution_count": null,
   "id": "d04a74fa-e48a-4d03-b6bb-8edd4a7ac0e2",
   "metadata": {},
   "outputs": [],
   "source": []
  }
 ],
 "metadata": {
  "kernelspec": {
   "display_name": "LSST",
   "language": "python",
   "name": "lsst"
  },
  "language_info": {
   "codemirror_mode": {
    "name": "ipython",
    "version": 3
   },
   "file_extension": ".py",
   "mimetype": "text/x-python",
   "name": "python",
   "nbconvert_exporter": "python",
   "pygments_lexer": "ipython3",
   "version": "3.12.10"
  }
 },
 "nbformat": 4,
 "nbformat_minor": 5
}
