{
 "cells": [
  {
   "cell_type": "code",
   "execution_count": 4,
   "id": "4cb3c3e0-79be-4060-8fb5-7aef6b5a53f6",
   "metadata": {},
   "outputs": [],
   "source": [
    "#!/usr/bin/env python\n",
    "# coding: utf-8\n",
    "\n",
    "# Import required libraries and modules\n",
    "import numpy as np\n",
    "import matplotlib.pyplot as plt\n",
    "import pandas as pd\n",
    "from astropy.coordinates import SkyCoord\n",
    "import astropy.units as u\n",
    "from tqdm import tqdm"
   ]
  },
  {
   "cell_type": "code",
   "execution_count": 5,
   "id": "97392093-b4c0-40ad-b4e3-1c30b59882e1",
   "metadata": {},
   "outputs": [
    {
     "data": {
      "text/html": [
       "<div>\n",
       "<style scoped>\n",
       "    .dataframe tbody tr th:only-of-type {\n",
       "        vertical-align: middle;\n",
       "    }\n",
       "\n",
       "    .dataframe tbody tr th {\n",
       "        vertical-align: top;\n",
       "    }\n",
       "\n",
       "    .dataframe thead th {\n",
       "        text-align: right;\n",
       "    }\n",
       "</style>\n",
       "<table border=\"1\" class=\"dataframe\">\n",
       "  <thead>\n",
       "    <tr style=\"text-align: right;\">\n",
       "      <th></th>\n",
       "      <th>ra</th>\n",
       "      <th>dec</th>\n",
       "      <th>midpointMjdTai</th>\n",
       "      <th>type</th>\n",
       "    </tr>\n",
       "    <tr>\n",
       "      <th>diaSourceId</th>\n",
       "      <th></th>\n",
       "      <th></th>\n",
       "      <th></th>\n",
       "      <th></th>\n",
       "    </tr>\n",
       "  </thead>\n",
       "  <tbody>\n",
       "    <tr>\n",
       "      <th>1257927201521665</th>\n",
       "      <td>55.760339</td>\n",
       "      <td>-32.260622</td>\n",
       "      <td>59583.125051</td>\n",
       "      <td>NaN</td>\n",
       "    </tr>\n",
       "    <tr>\n",
       "      <th>1257927201521666</th>\n",
       "      <td>55.674078</td>\n",
       "      <td>-32.283857</td>\n",
       "      <td>59583.125051</td>\n",
       "      <td>NaN</td>\n",
       "    </tr>\n",
       "    <tr>\n",
       "      <th>1257927201521667</th>\n",
       "      <td>55.552914</td>\n",
       "      <td>-32.306395</td>\n",
       "      <td>59583.125051</td>\n",
       "      <td>NaN</td>\n",
       "    </tr>\n",
       "    <tr>\n",
       "      <th>1257927201521668</th>\n",
       "      <td>55.547689</td>\n",
       "      <td>-32.309278</td>\n",
       "      <td>59583.125051</td>\n",
       "      <td>NaN</td>\n",
       "    </tr>\n",
       "    <tr>\n",
       "      <th>1257927201521669</th>\n",
       "      <td>55.570127</td>\n",
       "      <td>-32.306400</td>\n",
       "      <td>59583.125051</td>\n",
       "      <td>NaN</td>\n",
       "    </tr>\n",
       "    <tr>\n",
       "      <th>...</th>\n",
       "      <td>...</td>\n",
       "      <td>...</td>\n",
       "      <td>...</td>\n",
       "      <td>...</td>\n",
       "    </tr>\n",
       "    <tr>\n",
       "      <th>660667525163384915</th>\n",
       "      <td>55.889519</td>\n",
       "      <td>-32.485637</td>\n",
       "      <td>61392.194195</td>\n",
       "      <td>star</td>\n",
       "    </tr>\n",
       "    <tr>\n",
       "      <th>661047079476396040</th>\n",
       "      <td>55.863218</td>\n",
       "      <td>-32.167598</td>\n",
       "      <td>61393.204087</td>\n",
       "      <td>star</td>\n",
       "    </tr>\n",
       "    <tr>\n",
       "      <th>662500331589992590</th>\n",
       "      <td>55.971559</td>\n",
       "      <td>-32.358853</td>\n",
       "      <td>61404.195949</td>\n",
       "      <td>star</td>\n",
       "    </tr>\n",
       "    <tr>\n",
       "      <th>662500331589992596</th>\n",
       "      <td>55.881022</td>\n",
       "      <td>-32.482719</td>\n",
       "      <td>61404.195949</td>\n",
       "      <td>star</td>\n",
       "    </tr>\n",
       "    <tr>\n",
       "      <th>662500331589992604</th>\n",
       "      <td>55.875809</td>\n",
       "      <td>-32.505451</td>\n",
       "      <td>61404.195949</td>\n",
       "      <td>star</td>\n",
       "    </tr>\n",
       "  </tbody>\n",
       "</table>\n",
       "<p>25446 rows × 4 columns</p>\n",
       "</div>"
      ],
      "text/plain": [
       "                           ra        dec  midpointMjdTai  type\n",
       "diaSourceId                                                   \n",
       "1257927201521665    55.760339 -32.260622    59583.125051   NaN\n",
       "1257927201521666    55.674078 -32.283857    59583.125051   NaN\n",
       "1257927201521667    55.552914 -32.306395    59583.125051   NaN\n",
       "1257927201521668    55.547689 -32.309278    59583.125051   NaN\n",
       "1257927201521669    55.570127 -32.306400    59583.125051   NaN\n",
       "...                       ...        ...             ...   ...\n",
       "660667525163384915  55.889519 -32.485637    61392.194195  star\n",
       "661047079476396040  55.863218 -32.167598    61393.204087  star\n",
       "662500331589992590  55.971559 -32.358853    61404.195949  star\n",
       "662500331589992596  55.881022 -32.482719    61404.195949  star\n",
       "662500331589992604  55.875809 -32.505451    61404.195949  star\n",
       "\n",
       "[25446 rows x 4 columns]"
      ]
     },
     "execution_count": 5,
     "metadata": {},
     "output_type": "execute_result"
    }
   ],
   "source": [
    "\n",
    "# Define a threshold for matching errors\n",
    "space_match_threshold = 1 * u.arcsec\n",
    "MJD_tolerance = 0.00034 #30 sec in units of day \n",
    "\n",
    "# Define file paths.\n",
    "sum_path = {}\n",
    "sum_path[\"star\"] = '../truth_star/truth_star_summary_v1-0-0.parquet'\n",
    "#'/sdf/data/rubin/shared/dc2_run2.2i_truth/truth_star/truth_star_summary_v1-0-0.parquet'\n",
    "sum_path[\"sn\"] = \"../truth_sn/truth_sn_summary_v1-0-0.parquet\" \n",
    "#'/sdf/data/rubin/shared/dc2_run2.2i_truth/truth_sn/truth_sn_summary_v1-0-0.parquet'\n",
    "\n",
    "var_path = {}\n",
    "var_path[\"star\"] = '../truth_star/truth_star_variability_v1-0-0.parquet'\n",
    "#'/sdf/data/rubin/shared/dc2_run2.2i_truth/truth_star/truth_star_variability_v1-0-0.parquet'\n",
    "var_path[\"sn\"] = '../truth_sn/truth_sn_variability_v1-0-0.parquet'\n",
    "#'/sdf/data/rubin/shared/dc2_run2.2i_truth/truth_sn/truth_sn_variability_v1-0-0.parquet'\n",
    "\n",
    "detection_csv_pth = \"../sources_with_labels.csv\" #'exported_sources.csv'\n",
    "\n",
    "#get DIA detections\n",
    "dia_detections = pd.read_csv(detection_csv_pth, index_col=\"diaSourceId\") #formerly known as exported_csv\n",
    "#only for now based on the csv we are reading\n",
    "dia_detections.drop([\"real\"], axis=1, inplace=True)    \n",
    "\n",
    "dia_detections"
   ]
  },
  {
   "cell_type": "markdown",
   "id": "fe4cccd7-3d1d-46a2-be08-2fd31fb203c9",
   "metadata": {},
   "source": [
    "## load truth catalogs"
   ]
  },
  {
   "cell_type": "code",
   "execution_count": 6,
   "id": "cba01351-513b-4db4-88ff-6d215be51013",
   "metadata": {},
   "outputs": [],
   "source": [
    "# Get mind and max ra and dec values to filter out unnecessary records.\n",
    "max_exp_ra, min_exp_ra = dia_detections.ra.max(), dia_detections.ra.min()\n",
    "max_exp_dec, min_exp_dec = dia_detections.dec.max(), dia_detections.dec.min()\n",
    "\n",
    "\n",
    "catalog = {}\n",
    "result_sum = {}\n",
    "\n",
    "# Stage 1: Match sources in Space.\n",
    "for s in [\"star\", \"sn\"]:\n",
    "    # Read Parquet and CSV files to begin ground truth derivation.\n",
    "    result_sum[s] = pd.read_parquet(sum_path[s])\n",
    "\n",
    "    # Keep only those records from summary tables which are within the max ra and dec values in the exported sources.\n",
    "    result_sum[s] = result_sum[s][(result_sum[s]['ra'] >= min_exp_ra) & (result_sum[s]['ra'] <= max_exp_ra) &\\\n",
    "                                    (result_sum[s]['dec'] >= min_exp_dec) & (result_sum[s]['dec'] <= max_exp_dec)]\n",
    "\n",
    "\n",
    "    # Initialize astropy.coordinates.SkyCoord class for matching in space.\n",
    "    catalog[s] = SkyCoord(ra=result_sum[s].ra, dec=result_sum[s].dec, unit=u.deg)\n",
    "\n",
    "# Match exported sources with stars and supernovae.\n",
    "detections_cat = SkyCoord(ra=dia_detections.ra, dec=dia_detections.dec, unit=u.deg)"
   ]
  },
  {
   "cell_type": "code",
   "execution_count": 23,
   "id": "95ec6417-0b0e-469b-a793-cb58f3dd7fff",
   "metadata": {},
   "outputs": [],
   "source": [
    "# By default, set on_source = 0 and real=0 (bogus) for all values in the exported sources.\n",
    "dia_detections['on_source'] = 0\n",
    "dia_detections['real'] = 0\n",
    "dia_detections['type'] = None"
   ]
  },
  {
   "cell_type": "markdown",
   "id": "faffe912-ea47-43ac-9465-727b336a67c9",
   "metadata": {},
   "source": [
    "## spatial crossmatch"
   ]
  },
  {
   "cell_type": "code",
   "execution_count": 10,
   "id": "8b3c07bb-7988-4a68-8bd1-fa8529486750",
   "metadata": {},
   "outputs": [
    {
     "name": "stdout",
     "output_type": "stream",
     "text": [
      "7155 of 25446 stars matched before applying threshold\n",
      "146 of 25446 sne matched before applying threshold\n"
     ]
    }
   ],
   "source": [
    "star_idx, star_d2d, star_d3d = detections_cat.match_to_catalog_sky(catalog['star'])\n",
    "sn_idx, sn_d2d, sn_d3d = detections_cat.match_to_catalog_sky(catalog['sn'])\n",
    "\n",
    "star_mask = star_d2d < space_match_threshold #remove matches that are too far\n",
    "sn_mask = sn_d2d < space_match_threshold #remove matches that are too far\n",
    "\n",
    "print(f\"{np.sum(star_mask)} of {len(detections_cat)} stars matched before applying threshold\")\n",
    "print(f\"{np.sum(sn_mask)} of {len(detections_cat)} sne matched before applying threshold\")"
   ]
  },
  {
   "cell_type": "code",
   "execution_count": 27,
   "id": "31279364-2741-4bdc-9fca-a736fd1630b3",
   "metadata": {},
   "outputs": [
    {
     "name": "stdout",
     "output_type": "stream",
     "text": [
      "Number of matched stars in Stage #1: 7155\n",
      "Number of matched sne in Stage #1: 146\n"
     ]
    }
   ],
   "source": [
    "\n",
    "\n",
    "# Get all matched stars\n",
    "matched_star_idx = star_idx[star_mask] #index in stars of matched dia_detections\n",
    "print(f\"Number of matched stars in Stage #1: {len(matched_star_idx)}\")\n",
    "\n",
    "# Get all matched supernovae\n",
    "matched_sn_idx = sn_idx[sn_mask] #index in sn_cat of matched dia_detections\n",
    "print(f\"Number of matched sne in Stage #1: {len(matched_sn_idx)}\")\n",
    "\n",
    "dia_idx_stars = dia_detections.index[star_mask]\n",
    "dia_idx_sn = dia_detections.index[sn_mask]\n",
    "\n",
    "# Assign the variability sources catalog id to the detections\n",
    "dia_detections[\"id\"] = None\n",
    "dia_detections.loc[dia_idx_stars,\"id\"] = result_sum[\"star\"].iloc[matched_star_idx][\"id\"].to_numpy()\n",
    "dia_detections.loc[dia_idx_sn,\"id\"] = result_sum['sn'].iloc[matched_sn_idx][\"id\"].to_numpy()\n",
    "\n"
   ]
  },
  {
   "cell_type": "code",
   "execution_count": 28,
   "id": "e9f517f2-4016-4348-a6dc-da09f4ab0370",
   "metadata": {},
   "outputs": [
    {
     "data": {
      "text/html": [
       "<div>\n",
       "<style scoped>\n",
       "    .dataframe tbody tr th:only-of-type {\n",
       "        vertical-align: middle;\n",
       "    }\n",
       "\n",
       "    .dataframe tbody tr th {\n",
       "        vertical-align: top;\n",
       "    }\n",
       "\n",
       "    .dataframe thead th {\n",
       "        text-align: right;\n",
       "    }\n",
       "</style>\n",
       "<table border=\"1\" class=\"dataframe\">\n",
       "  <thead>\n",
       "    <tr style=\"text-align: right;\">\n",
       "      <th></th>\n",
       "      <th>ra</th>\n",
       "      <th>dec</th>\n",
       "      <th>midpointMjdTai</th>\n",
       "      <th>type</th>\n",
       "      <th>id</th>\n",
       "      <th>on_source</th>\n",
       "      <th>real</th>\n",
       "    </tr>\n",
       "    <tr>\n",
       "      <th>diaSourceId</th>\n",
       "      <th></th>\n",
       "      <th></th>\n",
       "      <th></th>\n",
       "      <th></th>\n",
       "      <th></th>\n",
       "      <th></th>\n",
       "      <th></th>\n",
       "    </tr>\n",
       "  </thead>\n",
       "  <tbody>\n",
       "    <tr>\n",
       "      <th>1257927201521665</th>\n",
       "      <td>55.760339</td>\n",
       "      <td>-32.260622</td>\n",
       "      <td>59583.125051</td>\n",
       "      <td>None</td>\n",
       "      <td>30321355720</td>\n",
       "      <td>0</td>\n",
       "      <td>0</td>\n",
       "    </tr>\n",
       "    <tr>\n",
       "      <th>1257927201521666</th>\n",
       "      <td>55.674078</td>\n",
       "      <td>-32.283857</td>\n",
       "      <td>59583.125051</td>\n",
       "      <td>None</td>\n",
       "      <td>None</td>\n",
       "      <td>0</td>\n",
       "      <td>0</td>\n",
       "    </tr>\n",
       "    <tr>\n",
       "      <th>1257927201521667</th>\n",
       "      <td>55.552914</td>\n",
       "      <td>-32.306395</td>\n",
       "      <td>59583.125051</td>\n",
       "      <td>None</td>\n",
       "      <td>None</td>\n",
       "      <td>0</td>\n",
       "      <td>0</td>\n",
       "    </tr>\n",
       "    <tr>\n",
       "      <th>1257927201521668</th>\n",
       "      <td>55.547689</td>\n",
       "      <td>-32.309278</td>\n",
       "      <td>59583.125051</td>\n",
       "      <td>None</td>\n",
       "      <td>None</td>\n",
       "      <td>0</td>\n",
       "      <td>0</td>\n",
       "    </tr>\n",
       "    <tr>\n",
       "      <th>1257927201521669</th>\n",
       "      <td>55.570127</td>\n",
       "      <td>-32.306400</td>\n",
       "      <td>59583.125051</td>\n",
       "      <td>None</td>\n",
       "      <td>None</td>\n",
       "      <td>0</td>\n",
       "      <td>0</td>\n",
       "    </tr>\n",
       "  </tbody>\n",
       "</table>\n",
       "</div>"
      ],
      "text/plain": [
       "                         ra        dec  midpointMjdTai  type           id  \\\n",
       "diaSourceId                                                                 \n",
       "1257927201521665  55.760339 -32.260622    59583.125051  None  30321355720   \n",
       "1257927201521666  55.674078 -32.283857    59583.125051  None         None   \n",
       "1257927201521667  55.552914 -32.306395    59583.125051  None         None   \n",
       "1257927201521668  55.547689 -32.309278    59583.125051  None         None   \n",
       "1257927201521669  55.570127 -32.306400    59583.125051  None         None   \n",
       "\n",
       "                  on_source  real  \n",
       "diaSourceId                        \n",
       "1257927201521665          0     0  \n",
       "1257927201521666          0     0  \n",
       "1257927201521667          0     0  \n",
       "1257927201521668          0     0  \n",
       "1257927201521669          0     0  "
      ]
     },
     "execution_count": 28,
     "metadata": {},
     "output_type": "execute_result"
    }
   ],
   "source": [
    "dia_detections.head()"
   ]
  },
  {
   "cell_type": "code",
   "execution_count": 29,
   "id": "34342105-f6cd-49a9-88f5-0e0b1842d637",
   "metadata": {},
   "outputs": [
    {
     "data": {
      "text/html": [
       "<div>\n",
       "<style scoped>\n",
       "    .dataframe tbody tr th:only-of-type {\n",
       "        vertical-align: middle;\n",
       "    }\n",
       "\n",
       "    .dataframe tbody tr th {\n",
       "        vertical-align: top;\n",
       "    }\n",
       "\n",
       "    .dataframe thead th {\n",
       "        text-align: right;\n",
       "    }\n",
       "</style>\n",
       "<table border=\"1\" class=\"dataframe\">\n",
       "  <thead>\n",
       "    <tr style=\"text-align: right;\">\n",
       "      <th></th>\n",
       "      <th>ra</th>\n",
       "      <th>dec</th>\n",
       "      <th>midpointMjdTai</th>\n",
       "      <th>type</th>\n",
       "      <th>id</th>\n",
       "      <th>on_source</th>\n",
       "      <th>real</th>\n",
       "    </tr>\n",
       "    <tr>\n",
       "      <th>diaSourceId</th>\n",
       "      <th></th>\n",
       "      <th></th>\n",
       "      <th></th>\n",
       "      <th></th>\n",
       "      <th></th>\n",
       "      <th></th>\n",
       "      <th></th>\n",
       "    </tr>\n",
       "  </thead>\n",
       "  <tbody>\n",
       "    <tr>\n",
       "      <th>1257927201521665</th>\n",
       "      <td>55.760339</td>\n",
       "      <td>-32.260622</td>\n",
       "      <td>59583.125051</td>\n",
       "      <td>star</td>\n",
       "      <td>30321355720</td>\n",
       "      <td>1</td>\n",
       "      <td>0</td>\n",
       "    </tr>\n",
       "    <tr>\n",
       "      <th>1257927201521666</th>\n",
       "      <td>55.674078</td>\n",
       "      <td>-32.283857</td>\n",
       "      <td>59583.125051</td>\n",
       "      <td>None</td>\n",
       "      <td>None</td>\n",
       "      <td>0</td>\n",
       "      <td>0</td>\n",
       "    </tr>\n",
       "    <tr>\n",
       "      <th>1257927201521667</th>\n",
       "      <td>55.552914</td>\n",
       "      <td>-32.306395</td>\n",
       "      <td>59583.125051</td>\n",
       "      <td>None</td>\n",
       "      <td>None</td>\n",
       "      <td>0</td>\n",
       "      <td>0</td>\n",
       "    </tr>\n",
       "    <tr>\n",
       "      <th>1257927201521668</th>\n",
       "      <td>55.547689</td>\n",
       "      <td>-32.309278</td>\n",
       "      <td>59583.125051</td>\n",
       "      <td>None</td>\n",
       "      <td>None</td>\n",
       "      <td>0</td>\n",
       "      <td>0</td>\n",
       "    </tr>\n",
       "    <tr>\n",
       "      <th>1257927201521669</th>\n",
       "      <td>55.570127</td>\n",
       "      <td>-32.306400</td>\n",
       "      <td>59583.125051</td>\n",
       "      <td>None</td>\n",
       "      <td>None</td>\n",
       "      <td>0</td>\n",
       "      <td>0</td>\n",
       "    </tr>\n",
       "    <tr>\n",
       "      <th>...</th>\n",
       "      <td>...</td>\n",
       "      <td>...</td>\n",
       "      <td>...</td>\n",
       "      <td>...</td>\n",
       "      <td>...</td>\n",
       "      <td>...</td>\n",
       "      <td>...</td>\n",
       "    </tr>\n",
       "    <tr>\n",
       "      <th>660667525163384915</th>\n",
       "      <td>55.889519</td>\n",
       "      <td>-32.485637</td>\n",
       "      <td>61392.194195</td>\n",
       "      <td>star</td>\n",
       "      <td>31411443281</td>\n",
       "      <td>1</td>\n",
       "      <td>0</td>\n",
       "    </tr>\n",
       "    <tr>\n",
       "      <th>661047079476396040</th>\n",
       "      <td>55.863218</td>\n",
       "      <td>-32.167598</td>\n",
       "      <td>61393.204087</td>\n",
       "      <td>star</td>\n",
       "      <td>31102009372</td>\n",
       "      <td>1</td>\n",
       "      <td>0</td>\n",
       "    </tr>\n",
       "    <tr>\n",
       "      <th>662500331589992590</th>\n",
       "      <td>55.971559</td>\n",
       "      <td>-32.358853</td>\n",
       "      <td>61404.195949</td>\n",
       "      <td>star</td>\n",
       "      <td>31405685742</td>\n",
       "      <td>1</td>\n",
       "      <td>0</td>\n",
       "    </tr>\n",
       "    <tr>\n",
       "      <th>662500331589992596</th>\n",
       "      <td>55.881022</td>\n",
       "      <td>-32.482719</td>\n",
       "      <td>61404.195949</td>\n",
       "      <td>star</td>\n",
       "      <td>31411442918</td>\n",
       "      <td>1</td>\n",
       "      <td>0</td>\n",
       "    </tr>\n",
       "    <tr>\n",
       "      <th>662500331589992604</th>\n",
       "      <td>55.875809</td>\n",
       "      <td>-32.505451</td>\n",
       "      <td>61404.195949</td>\n",
       "      <td>star</td>\n",
       "      <td>31107747991</td>\n",
       "      <td>1</td>\n",
       "      <td>0</td>\n",
       "    </tr>\n",
       "  </tbody>\n",
       "</table>\n",
       "<p>25446 rows × 7 columns</p>\n",
       "</div>"
      ],
      "text/plain": [
       "                           ra        dec  midpointMjdTai  type           id  \\\n",
       "diaSourceId                                                                   \n",
       "1257927201521665    55.760339 -32.260622    59583.125051  star  30321355720   \n",
       "1257927201521666    55.674078 -32.283857    59583.125051  None         None   \n",
       "1257927201521667    55.552914 -32.306395    59583.125051  None         None   \n",
       "1257927201521668    55.547689 -32.309278    59583.125051  None         None   \n",
       "1257927201521669    55.570127 -32.306400    59583.125051  None         None   \n",
       "...                       ...        ...             ...   ...          ...   \n",
       "660667525163384915  55.889519 -32.485637    61392.194195  star  31411443281   \n",
       "661047079476396040  55.863218 -32.167598    61393.204087  star  31102009372   \n",
       "662500331589992590  55.971559 -32.358853    61404.195949  star  31405685742   \n",
       "662500331589992596  55.881022 -32.482719    61404.195949  star  31411442918   \n",
       "662500331589992604  55.875809 -32.505451    61404.195949  star  31107747991   \n",
       "\n",
       "                    on_source  real  \n",
       "diaSourceId                          \n",
       "1257927201521665            1     0  \n",
       "1257927201521666            0     0  \n",
       "1257927201521667            0     0  \n",
       "1257927201521668            0     0  \n",
       "1257927201521669            0     0  \n",
       "...                       ...   ...  \n",
       "660667525163384915          1     0  \n",
       "661047079476396040          1     0  \n",
       "662500331589992590          1     0  \n",
       "662500331589992596          1     0  \n",
       "662500331589992604          1     0  \n",
       "\n",
       "[25446 rows x 7 columns]"
      ]
     },
     "execution_count": 29,
     "metadata": {},
     "output_type": "execute_result"
    }
   ],
   "source": [
    "# The spatially matched detections get on_source = 1\n",
    "\n",
    "dia_detections.loc[dia_idx_sn, \"on_source\"] = 1\n",
    "dia_detections.loc[dia_idx_stars , \"on_source\"] = 1\n",
    "dia_detections.loc[dia_idx_sn, \"type\"] = \"sn\"\n",
    "dia_detections.loc[dia_idx_stars, \"type\"] = \"star\"\n",
    "dia_detections"
   ]
  },
  {
   "cell_type": "code",
   "execution_count": 30,
   "id": "45b9332a-e08b-4495-b817-76f351afc22f",
   "metadata": {},
   "outputs": [
    {
     "name": "stdout",
     "output_type": "stream",
     "text": [
      "Summary at the end of First Stage:\n",
      "detections on a source 7301 \n",
      "\n",
      "class detection: type\n",
      "sn       146\n",
      "star    7155\n",
      "Name: ra, dtype: int64\n"
     ]
    }
   ],
   "source": [
    "# Print a summary at the end of first round of matching.\n",
    "print(\"Summary at the end of First Stage:\")\n",
    "print(f\"detections on a source\", dia_detections[\"on_source\"].sum(), \"\\n\")\n",
    "print(f\"class detection: {dia_detections.groupby('type').count().iloc[:,0]}\")"
   ]
  },
  {
   "cell_type": "code",
   "execution_count": 32,
   "id": "e71f8b23-b853-4e8a-8196-3c1d689b0fb4",
   "metadata": {
    "scrolled": true
   },
   "outputs": [
    {
     "name": "stdout",
     "output_type": "stream",
     "text": [
      "working on class: sn\n",
      "need to examine 12757691 variability entries\n"
     ]
    },
    {
     "name": "stderr",
     "output_type": "stream",
     "text": [
      " 12%|█████                                    | 18/146 [00:00<00:00, 177.33it/s]"
     ]
    },
    {
     "name": "stdout",
     "output_type": "stream",
     "text": [
      "342457652904722669\n"
     ]
    },
    {
     "name": "stderr",
     "output_type": "stream",
     "text": [
      " 40%|████████████████▎                        | 58/146 [00:00<00:00, 193.00it/s]"
     ]
    },
    {
     "name": "stdout",
     "output_type": "stream",
     "text": [
      "351362700657295472\n",
      "351363319669456940\n"
     ]
    },
    {
     "name": "stderr",
     "output_type": "stream",
     "text": [
      "100%|████████████████████████████████████████| 146/146 [00:00<00:00, 195.94it/s]"
     ]
    },
    {
     "name": "stdout",
     "output_type": "stream",
     "text": [
      "645816020564443201\n",
      "working on class: star\n"
     ]
    },
    {
     "name": "stderr",
     "output_type": "stream",
     "text": [
      "\n"
     ]
    },
    {
     "name": "stdout",
     "output_type": "stream",
     "text": [
      "need to examine 380870139 variability entries\n"
     ]
    },
    {
     "name": "stderr",
     "output_type": "stream",
     "text": [
      "  4%|█▋                                      | 313/7155 [00:36<12:45,  8.93it/s]"
     ]
    },
    {
     "name": "stdout",
     "output_type": "stream",
     "text": [
      "104057445445271766\n"
     ]
    },
    {
     "name": "stderr",
     "output_type": "stream",
     "text": [
      "  4%|█▊                                      | 315/7155 [00:37<13:07,  8.68it/s]"
     ]
    },
    {
     "name": "stdout",
     "output_type": "stream",
     "text": [
      "104057445445271773\n"
     ]
    },
    {
     "name": "stderr",
     "output_type": "stream",
     "text": [
      "  4%|█▊                                      | 320/7155 [00:37<12:54,  8.83it/s]"
     ]
    },
    {
     "name": "stdout",
     "output_type": "stream",
     "text": [
      "104057445445271824\n"
     ]
    },
    {
     "name": "stderr",
     "output_type": "stream",
     "text": [
      "  5%|█▊                                      | 323/7155 [00:37<13:01,  8.74it/s]"
     ]
    },
    {
     "name": "stdout",
     "output_type": "stream",
     "text": [
      "104057445445271838\n"
     ]
    },
    {
     "name": "stderr",
     "output_type": "stream",
     "text": [
      "  5%|█▊                                      | 331/7155 [00:38<12:45,  8.92it/s]"
     ]
    },
    {
     "name": "stdout",
     "output_type": "stream",
     "text": [
      "104057445445271862\n"
     ]
    },
    {
     "name": "stderr",
     "output_type": "stream",
     "text": [
      "  5%|█▉                                      | 344/7155 [00:40<12:45,  8.90it/s]"
     ]
    },
    {
     "name": "stdout",
     "output_type": "stream",
     "text": [
      "104057445445271924\n"
     ]
    },
    {
     "name": "stderr",
     "output_type": "stream",
     "text": [
      "  5%|█▉                                      | 347/7155 [00:40<13:09,  8.62it/s]"
     ]
    },
    {
     "name": "stdout",
     "output_type": "stream",
     "text": [
      "104057445445271949\n"
     ]
    },
    {
     "name": "stderr",
     "output_type": "stream",
     "text": [
      "  8%|███▏                                    | 564/7155 [01:04<12:07,  9.06it/s]"
     ]
    },
    {
     "name": "stdout",
     "output_type": "stream",
     "text": [
      "121861151112822790\n"
     ]
    },
    {
     "name": "stderr",
     "output_type": "stream",
     "text": [
      "  8%|███▎                                    | 603/7155 [01:08<12:02,  9.07it/s]"
     ]
    },
    {
     "name": "stdout",
     "output_type": "stream",
     "text": [
      "121861649865900088\n"
     ]
    },
    {
     "name": "stderr",
     "output_type": "stream",
     "text": [
      "  9%|███▍                                    | 609/7155 [01:08<12:02,  9.06it/s]"
     ]
    },
    {
     "name": "stdout",
     "output_type": "stream",
     "text": [
      "121861649865900098\n"
     ]
    },
    {
     "name": "stderr",
     "output_type": "stream",
     "text": [
      " 15%|█████▉                                 | 1100/7155 [02:01<11:12,  9.00it/s]"
     ]
    },
    {
     "name": "stdout",
     "output_type": "stream",
     "text": [
      "225905106065818069\n"
     ]
    },
    {
     "name": "stderr",
     "output_type": "stream",
     "text": [
      " 15%|██████                                 | 1108/7155 [02:02<11:24,  8.83it/s]"
     ]
    },
    {
     "name": "stdout",
     "output_type": "stream",
     "text": [
      "225905106065818109\n"
     ]
    },
    {
     "name": "stderr",
     "output_type": "stream",
     "text": [
      " 18%|███████                                | 1303/7155 [02:23<11:07,  8.77it/s]"
     ]
    },
    {
     "name": "stdout",
     "output_type": "stream",
     "text": [
      "226394734485045274\n"
     ]
    },
    {
     "name": "stderr",
     "output_type": "stream",
     "text": [
      " 18%|███████▏                               | 1308/7155 [02:24<10:59,  8.87it/s]"
     ]
    },
    {
     "name": "stdout",
     "output_type": "stream",
     "text": [
      "226394734485045399\n"
     ]
    },
    {
     "name": "stderr",
     "output_type": "stream",
     "text": [
      " 18%|███████▏                               | 1317/7155 [02:25<11:44,  8.28it/s]"
     ]
    },
    {
     "name": "stdout",
     "output_type": "stream",
     "text": [
      "226394734485045432\n",
      "226394734485045434\n"
     ]
    },
    {
     "name": "stderr",
     "output_type": "stream",
     "text": [
      " 19%|███████▏                               | 1325/7155 [02:26<10:51,  8.95it/s]"
     ]
    },
    {
     "name": "stdout",
     "output_type": "stream",
     "text": [
      "226394734485045443\n"
     ]
    },
    {
     "name": "stderr",
     "output_type": "stream",
     "text": [
      " 22%|████████▋                              | 1595/7155 [02:55<10:11,  9.09it/s]"
     ]
    },
    {
     "name": "stdout",
     "output_type": "stream",
     "text": [
      "242372028932292673\n"
     ]
    },
    {
     "name": "stderr",
     "output_type": "stream",
     "text": [
      " 24%|█████████▏                             | 1682/7155 [03:04<10:07,  9.00it/s]"
     ]
    },
    {
     "name": "stdout",
     "output_type": "stream",
     "text": [
      "242418712005574670\n"
     ]
    },
    {
     "name": "stderr",
     "output_type": "stream",
     "text": [
      " 24%|█████████▏                             | 1684/7155 [03:05<11:15,  8.09it/s]"
     ]
    },
    {
     "name": "stdout",
     "output_type": "stream",
     "text": [
      "242418712005574672\n",
      "242418712005574674\n"
     ]
    },
    {
     "name": "stderr",
     "output_type": "stream",
     "text": [
      " 24%|█████████▏                             | 1696/7155 [03:06<10:06,  9.00it/s]"
     ]
    },
    {
     "name": "stdout",
     "output_type": "stream",
     "text": [
      "242418712005574692\n"
     ]
    },
    {
     "name": "stderr",
     "output_type": "stream",
     "text": [
      " 24%|█████████▎                             | 1699/7155 [03:06<10:20,  8.80it/s]"
     ]
    },
    {
     "name": "stdout",
     "output_type": "stream",
     "text": [
      "242418712005574697\n"
     ]
    },
    {
     "name": "stderr",
     "output_type": "stream",
     "text": [
      " 24%|█████████▎                             | 1704/7155 [03:07<10:12,  8.90it/s]"
     ]
    },
    {
     "name": "stdout",
     "output_type": "stream",
     "text": [
      "242418712005574706\n"
     ]
    },
    {
     "name": "stderr",
     "output_type": "stream",
     "text": [
      " 24%|█████████▎                             | 1715/7155 [03:08<10:09,  8.93it/s]"
     ]
    },
    {
     "name": "stdout",
     "output_type": "stream",
     "text": [
      "242418712005574754\n"
     ]
    },
    {
     "name": "stderr",
     "output_type": "stream",
     "text": [
      " 27%|██████████▍                            | 1912/7155 [03:29<09:36,  9.10it/s]"
     ]
    },
    {
     "name": "stdout",
     "output_type": "stream",
     "text": [
      "255384731867152471\n"
     ]
    },
    {
     "name": "stderr",
     "output_type": "stream",
     "text": [
      " 27%|██████████▍                            | 1915/7155 [03:29<10:32,  8.29it/s]"
     ]
    },
    {
     "name": "stdout",
     "output_type": "stream",
     "text": [
      "255384731867152474\n",
      "255384731867152480\n"
     ]
    },
    {
     "name": "stderr",
     "output_type": "stream",
     "text": [
      " 30%|███████████▊                           | 2168/7155 [03:56<09:17,  8.94it/s]"
     ]
    },
    {
     "name": "stdout",
     "output_type": "stream",
     "text": [
      "342457652904722485\n"
     ]
    },
    {
     "name": "stderr",
     "output_type": "stream",
     "text": [
      " 30%|███████████▊                           | 2172/7155 [03:57<09:20,  8.89it/s]"
     ]
    },
    {
     "name": "stdout",
     "output_type": "stream",
     "text": [
      "342457652904722546\n"
     ]
    },
    {
     "name": "stderr",
     "output_type": "stream",
     "text": [
      " 30%|███████████▊                           | 2177/7155 [03:57<09:13,  8.99it/s]"
     ]
    },
    {
     "name": "stdout",
     "output_type": "stream",
     "text": [
      "342457652904722578\n"
     ]
    },
    {
     "name": "stderr",
     "output_type": "stream",
     "text": [
      " 30%|███████████▉                           | 2180/7155 [03:58<09:23,  8.84it/s]"
     ]
    },
    {
     "name": "stdout",
     "output_type": "stream",
     "text": [
      "342457652904722583\n"
     ]
    },
    {
     "name": "stderr",
     "output_type": "stream",
     "text": [
      " 31%|███████████▉                           | 2183/7155 [03:58<09:28,  8.75it/s]"
     ]
    },
    {
     "name": "stdout",
     "output_type": "stream",
     "text": [
      "342457652904722591\n"
     ]
    },
    {
     "name": "stderr",
     "output_type": "stream",
     "text": [
      " 31%|███████████▉                           | 2189/7155 [03:59<09:11,  9.00it/s]"
     ]
    },
    {
     "name": "stdout",
     "output_type": "stream",
     "text": [
      "342457652904722620\n"
     ]
    },
    {
     "name": "stderr",
     "output_type": "stream",
     "text": [
      " 31%|███████████▉                           | 2197/7155 [04:00<09:08,  9.05it/s]"
     ]
    },
    {
     "name": "stdout",
     "output_type": "stream",
     "text": [
      "342457652904722635\n"
     ]
    },
    {
     "name": "stderr",
     "output_type": "stream",
     "text": [
      " 33%|████████████▉                          | 2375/7155 [04:18<09:23,  8.48it/s]"
     ]
    },
    {
     "name": "stdout",
     "output_type": "stream",
     "text": [
      "347146711367417867\n",
      "347146711367417869\n"
     ]
    },
    {
     "name": "stderr",
     "output_type": "stream",
     "text": [
      " 33%|████████████▉                          | 2382/7155 [04:19<08:44,  9.09it/s]"
     ]
    },
    {
     "name": "stdout",
     "output_type": "stream",
     "text": [
      "347146711367417879\n"
     ]
    },
    {
     "name": "stderr",
     "output_type": "stream",
     "text": [
      " 35%|█████████████▌                         | 2493/7155 [04:31<08:33,  9.08it/s]"
     ]
    },
    {
     "name": "stdout",
     "output_type": "stream",
     "text": [
      "351362700657295407\n"
     ]
    },
    {
     "name": "stderr",
     "output_type": "stream",
     "text": [
      " 35%|█████████████▋                         | 2509/7155 [04:33<08:27,  9.15it/s]"
     ]
    },
    {
     "name": "stdout",
     "output_type": "stream",
     "text": [
      "351362700657295474\n"
     ]
    },
    {
     "name": "stderr",
     "output_type": "stream",
     "text": [
      " 35%|█████████████▋                         | 2511/7155 [04:33<08:49,  8.77it/s]"
     ]
    },
    {
     "name": "stdout",
     "output_type": "stream",
     "text": [
      "351363319669456907\n"
     ]
    },
    {
     "name": "stderr",
     "output_type": "stream",
     "text": [
      " 35%|█████████████▋                         | 2518/7155 [04:34<08:35,  9.00it/s]"
     ]
    },
    {
     "name": "stdout",
     "output_type": "stream",
     "text": [
      "351363319669456937\n"
     ]
    },
    {
     "name": "stderr",
     "output_type": "stream",
     "text": [
      " 36%|██████████████                         | 2578/7155 [04:40<08:23,  9.09it/s]"
     ]
    },
    {
     "name": "stdout",
     "output_type": "stream",
     "text": [
      "354457242847674376\n"
     ]
    },
    {
     "name": "stderr",
     "output_type": "stream",
     "text": [
      " 36%|██████████████                         | 2583/7155 [04:41<08:29,  8.97it/s]"
     ]
    },
    {
     "name": "stdout",
     "output_type": "stream",
     "text": [
      "354457242847674415\n"
     ]
    },
    {
     "name": "stderr",
     "output_type": "stream",
     "text": [
      " 36%|██████████████▏                        | 2596/7155 [04:42<08:20,  9.11it/s]"
     ]
    },
    {
     "name": "stdout",
     "output_type": "stream",
     "text": [
      "354458871714021390\n"
     ]
    },
    {
     "name": "stderr",
     "output_type": "stream",
     "text": [
      " 36%|██████████████▏                        | 2599/7155 [04:42<08:31,  8.90it/s]"
     ]
    },
    {
     "name": "stdout",
     "output_type": "stream",
     "text": [
      "354458871714021395\n"
     ]
    },
    {
     "name": "stderr",
     "output_type": "stream",
     "text": [
      " 37%|██████████████▍                        | 2659/7155 [04:49<08:11,  9.14it/s]"
     ]
    },
    {
     "name": "stdout",
     "output_type": "stream",
     "text": [
      "357391803948728378\n"
     ]
    },
    {
     "name": "stderr",
     "output_type": "stream",
     "text": [
      " 39%|███████████████▏                       | 2784/7155 [05:02<08:38,  8.43it/s]"
     ]
    },
    {
     "name": "stdout",
     "output_type": "stream",
     "text": [
      "363352170583556164\n",
      "363352170583556167\n"
     ]
    },
    {
     "name": "stderr",
     "output_type": "stream",
     "text": [
      " 42%|████████████████▍                      | 3012/7155 [05:26<07:40,  9.00it/s]"
     ]
    },
    {
     "name": "stdout",
     "output_type": "stream",
     "text": [
      "372268538259308571\n"
     ]
    },
    {
     "name": "stderr",
     "output_type": "stream",
     "text": [
      " 44%|█████████████████                      | 3136/7155 [05:39<07:26,  9.01it/s]"
     ]
    },
    {
     "name": "stdout",
     "output_type": "stream",
     "text": [
      "372716278936240195\n"
     ]
    },
    {
     "name": "stderr",
     "output_type": "stream",
     "text": [
      " 47%|██████████████████▌                    | 3397/7155 [06:07<06:51,  9.12it/s]"
     ]
    },
    {
     "name": "stdout",
     "output_type": "stream",
     "text": [
      "379922626857926693\n"
     ]
    },
    {
     "name": "stderr",
     "output_type": "stream",
     "text": [
      " 48%|██████████████████▋                    | 3437/7155 [06:11<07:23,  8.38it/s]"
     ]
    },
    {
     "name": "stdout",
     "output_type": "stream",
     "text": [
      "381161183756943368\n"
     ]
    },
    {
     "name": "stderr",
     "output_type": "stream",
     "text": [
      " 48%|██████████████████▊                    | 3440/7155 [06:12<07:09,  8.65it/s]"
     ]
    },
    {
     "name": "stdout",
     "output_type": "stream",
     "text": [
      "381161183756943376\n"
     ]
    },
    {
     "name": "stderr",
     "output_type": "stream",
     "text": [
      " 48%|██████████████████▊                    | 3445/7155 [06:12<06:52,  8.99it/s]"
     ]
    },
    {
     "name": "stdout",
     "output_type": "stream",
     "text": [
      "381161183756943395\n"
     ]
    },
    {
     "name": "stderr",
     "output_type": "stream",
     "text": [
      " 56%|█████████████████████▋                 | 3989/7155 [07:10<05:50,  9.03it/s]"
     ]
    },
    {
     "name": "stdout",
     "output_type": "stream",
     "text": [
      "488448449977516097\n"
     ]
    },
    {
     "name": "stderr",
     "output_type": "stream",
     "text": [
      " 56%|█████████████████████▊                 | 4013/7155 [07:13<05:43,  9.14it/s]"
     ]
    },
    {
     "name": "stdout",
     "output_type": "stream",
     "text": [
      "488448449977516574\n"
     ]
    },
    {
     "name": "stderr",
     "output_type": "stream",
     "text": [
      " 56%|█████████████████████▉                 | 4019/7155 [07:13<05:45,  9.09it/s]"
     ]
    },
    {
     "name": "stdout",
     "output_type": "stream",
     "text": [
      "488448449977516740\n"
     ]
    },
    {
     "name": "stderr",
     "output_type": "stream",
     "text": [
      " 60%|███████████████████████▍               | 4306/7155 [07:44<05:11,  9.15it/s]"
     ]
    },
    {
     "name": "stdout",
     "output_type": "stream",
     "text": [
      "498495382431465484\n"
     ]
    },
    {
     "name": "stderr",
     "output_type": "stream",
     "text": [
      " 61%|███████████████████████▉               | 4384/7155 [07:52<05:34,  8.29it/s]"
     ]
    },
    {
     "name": "stdout",
     "output_type": "stream",
     "text": [
      "502749563644280834\n",
      "502749563644280839\n"
     ]
    },
    {
     "name": "stderr",
     "output_type": "stream",
     "text": [
      " 61%|███████████████████████▉               | 4387/7155 [07:52<05:18,  8.68it/s]"
     ]
    },
    {
     "name": "stdout",
     "output_type": "stream",
     "text": [
      "502749563644280841\n"
     ]
    },
    {
     "name": "stderr",
     "output_type": "stream",
     "text": [
      " 63%|████████████████████████▍              | 4492/7155 [08:04<04:54,  9.04it/s]"
     ]
    },
    {
     "name": "stdout",
     "output_type": "stream",
     "text": [
      "506428274000265218\n"
     ]
    },
    {
     "name": "stderr",
     "output_type": "stream",
     "text": [
      " 63%|████████████████████████▍              | 4494/7155 [08:04<05:04,  8.74it/s]"
     ]
    },
    {
     "name": "stdout",
     "output_type": "stream",
     "text": [
      "506428274000265221\n"
     ]
    },
    {
     "name": "stderr",
     "output_type": "stream",
     "text": [
      " 63%|████████████████████████▌              | 4506/7155 [08:05<04:49,  9.15it/s]"
     ]
    },
    {
     "name": "stdout",
     "output_type": "stream",
     "text": [
      "506428274000265256\n"
     ]
    },
    {
     "name": "stderr",
     "output_type": "stream",
     "text": [
      " 64%|████████████████████████▊              | 4562/7155 [08:11<04:44,  9.11it/s]"
     ]
    },
    {
     "name": "stdout",
     "output_type": "stream",
     "text": [
      "510734470488260617\n"
     ]
    },
    {
     "name": "stderr",
     "output_type": "stream",
     "text": [
      " 64%|████████████████████████▉              | 4576/7155 [08:12<04:44,  9.05it/s]"
     ]
    },
    {
     "name": "stdout",
     "output_type": "stream",
     "text": [
      "510734470488260672\n"
     ]
    },
    {
     "name": "stderr",
     "output_type": "stream",
     "text": [
      " 64%|████████████████████████▉              | 4579/7155 [08:13<05:13,  8.21it/s]"
     ]
    },
    {
     "name": "stdout",
     "output_type": "stream",
     "text": [
      "510734470488260676\n",
      "510734470488260677\n"
     ]
    },
    {
     "name": "stderr",
     "output_type": "stream",
     "text": [
      " 66%|█████████████████████████▋             | 4722/7155 [08:28<04:33,  8.90it/s]"
     ]
    },
    {
     "name": "stdout",
     "output_type": "stream",
     "text": [
      "514672918991470600\n"
     ]
    },
    {
     "name": "stderr",
     "output_type": "stream",
     "text": [
      " 66%|█████████████████████████▊             | 4740/7155 [08:30<04:25,  9.10it/s]"
     ]
    },
    {
     "name": "stdout",
     "output_type": "stream",
     "text": [
      "514672918991470663\n"
     ]
    },
    {
     "name": "stderr",
     "output_type": "stream",
     "text": [
      " 67%|██████████████████████████▏            | 4803/7155 [08:37<04:19,  9.08it/s]"
     ]
    },
    {
     "name": "stdout",
     "output_type": "stream",
     "text": [
      "515513652934082695\n"
     ]
    },
    {
     "name": "stderr",
     "output_type": "stream",
     "text": [
      " 67%|██████████████████████████▏            | 4815/7155 [08:38<04:18,  9.06it/s]"
     ]
    },
    {
     "name": "stdout",
     "output_type": "stream",
     "text": [
      "515513652934082934\n"
     ]
    },
    {
     "name": "stderr",
     "output_type": "stream",
     "text": [
      " 75%|█████████████████████████████▎         | 5373/7155 [09:37<03:18,  8.99it/s]"
     ]
    },
    {
     "name": "stdout",
     "output_type": "stream",
     "text": [
      "554641942630105128\n"
     ]
    },
    {
     "name": "stderr",
     "output_type": "stream",
     "text": [
      " 77%|██████████████████████████████         | 5524/7155 [09:54<03:01,  9.00it/s]"
     ]
    },
    {
     "name": "stdout",
     "output_type": "stream",
     "text": [
      "620367796559151143\n"
     ]
    },
    {
     "name": "stderr",
     "output_type": "stream",
     "text": [
      " 79%|██████████████████████████████▊        | 5651/7155 [10:07<02:47,  8.99it/s]"
     ]
    },
    {
     "name": "stdout",
     "output_type": "stream",
     "text": [
      "625896016469557251\n"
     ]
    },
    {
     "name": "stderr",
     "output_type": "stream",
     "text": [
      " 79%|██████████████████████████████▊        | 5653/7155 [10:07<02:51,  8.75it/s]"
     ]
    },
    {
     "name": "stdout",
     "output_type": "stream",
     "text": [
      "625896016469557268\n"
     ]
    },
    {
     "name": "stderr",
     "output_type": "stream",
     "text": [
      " 80%|███████████████████████████████▏       | 5714/7155 [10:14<02:40,  8.97it/s]"
     ]
    },
    {
     "name": "stdout",
     "output_type": "stream",
     "text": [
      "627179613616865303\n"
     ]
    },
    {
     "name": "stderr",
     "output_type": "stream",
     "text": [
      " 83%|████████████████████████████████▍      | 5947/7155 [10:39<02:14,  8.96it/s]"
     ]
    },
    {
     "name": "stdout",
     "output_type": "stream",
     "text": [
      "636277479094353951\n"
     ]
    },
    {
     "name": "stderr",
     "output_type": "stream",
     "text": [
      " 88%|██████████████████████████████████▏    | 6267/7155 [11:13<01:43,  8.55it/s]"
     ]
    },
    {
     "name": "stdout",
     "output_type": "stream",
     "text": [
      "645816020564443233\n"
     ]
    },
    {
     "name": "stderr",
     "output_type": "stream",
     "text": [
      " 88%|██████████████████████████████████▏    | 6274/7155 [11:14<01:41,  8.69it/s]"
     ]
    },
    {
     "name": "stdout",
     "output_type": "stream",
     "text": [
      "645816020564443378\n"
     ]
    },
    {
     "name": "stderr",
     "output_type": "stream",
     "text": [
      " 88%|██████████████████████████████████▏    | 6280/7155 [11:15<01:40,  8.73it/s]"
     ]
    },
    {
     "name": "stdout",
     "output_type": "stream",
     "text": [
      "645816020564443511\n"
     ]
    },
    {
     "name": "stderr",
     "output_type": "stream",
     "text": [
      " 88%|██████████████████████████████████▏    | 6283/7155 [11:15<01:41,  8.61it/s]"
     ]
    },
    {
     "name": "stdout",
     "output_type": "stream",
     "text": [
      "645816020564443728\n"
     ]
    },
    {
     "name": "stderr",
     "output_type": "stream",
     "text": [
      " 90%|███████████████████████████████████▏   | 6455/7155 [11:33<01:18,  8.92it/s]"
     ]
    },
    {
     "name": "stdout",
     "output_type": "stream",
     "text": [
      "647699403989057971\n"
     ]
    },
    {
     "name": "stderr",
     "output_type": "stream",
     "text": [
      " 90%|███████████████████████████████████▏   | 6464/7155 [11:34<01:15,  9.17it/s]"
     ]
    },
    {
     "name": "stdout",
     "output_type": "stream",
     "text": [
      "647699403989058057\n"
     ]
    },
    {
     "name": "stderr",
     "output_type": "stream",
     "text": [
      " 95%|█████████████████████████████████████  | 6789/7155 [12:09<00:39,  9.24it/s]"
     ]
    },
    {
     "name": "stdout",
     "output_type": "stream",
     "text": [
      "121861151112822817\n"
     ]
    },
    {
     "name": "stderr",
     "output_type": "stream",
     "text": [
      " 96%|█████████████████████████████████████▎ | 6839/7155 [12:14<00:35,  8.83it/s]"
     ]
    },
    {
     "name": "stdout",
     "output_type": "stream",
     "text": [
      "225905106065817658\n"
     ]
    },
    {
     "name": "stderr",
     "output_type": "stream",
     "text": [
      " 96%|█████████████████████████████████████▌ | 6888/7155 [12:19<00:28,  9.22it/s]"
     ]
    },
    {
     "name": "stdout",
     "output_type": "stream",
     "text": [
      "242418712005574717\n"
     ]
    },
    {
     "name": "stderr",
     "output_type": "stream",
     "text": [
      " 97%|█████████████████████████████████████▋ | 6912/7155 [12:22<00:27,  8.82it/s]"
     ]
    },
    {
     "name": "stdout",
     "output_type": "stream",
     "text": [
      "351362700657295476\n"
     ]
    },
    {
     "name": "stderr",
     "output_type": "stream",
     "text": [
      " 97%|█████████████████████████████████████▊ | 6945/7155 [12:25<00:25,  8.31it/s]"
     ]
    },
    {
     "name": "stdout",
     "output_type": "stream",
     "text": [
      "372716278936240222\n"
     ]
    },
    {
     "name": "stderr",
     "output_type": "stream",
     "text": [
      " 97%|█████████████████████████████████████▉ | 6970/7155 [12:28<00:19,  9.26it/s]"
     ]
    },
    {
     "name": "stdout",
     "output_type": "stream",
     "text": [
      "379922626857926673\n"
     ]
    },
    {
     "name": "stderr",
     "output_type": "stream",
     "text": [
      " 98%|██████████████████████████████████████▏| 7012/7155 [12:32<00:15,  9.03it/s]"
     ]
    },
    {
     "name": "stdout",
     "output_type": "stream",
     "text": [
      "488448449977516453\n"
     ]
    },
    {
     "name": "stderr",
     "output_type": "stream",
     "text": [
      " 99%|██████████████████████████████████████▍| 7051/7155 [12:36<00:12,  8.57it/s]"
     ]
    },
    {
     "name": "stdout",
     "output_type": "stream",
     "text": [
      "510734470488260694\n"
     ]
    },
    {
     "name": "stderr",
     "output_type": "stream",
     "text": [
      " 99%|██████████████████████████████████████▌| 7069/7155 [12:38<00:10,  8.21it/s]"
     ]
    },
    {
     "name": "stdout",
     "output_type": "stream",
     "text": [
      "554641942630105130\n"
     ]
    },
    {
     "name": "stderr",
     "output_type": "stream",
     "text": [
      " 99%|██████████████████████████████████████▌| 7080/7155 [12:40<00:08,  9.06it/s]"
     ]
    },
    {
     "name": "stdout",
     "output_type": "stream",
     "text": [
      "627179613616865357\n"
     ]
    },
    {
     "name": "stderr",
     "output_type": "stream",
     "text": [
      "100%|██████████████████████████████████████▊| 7122/7155 [12:44<00:03,  8.59it/s]"
     ]
    },
    {
     "name": "stdout",
     "output_type": "stream",
     "text": [
      "645816020564443153\n"
     ]
    },
    {
     "name": "stderr",
     "output_type": "stream",
     "text": [
      "100%|██████████████████████████████████████▉| 7140/7155 [12:46<00:01,  9.04it/s]"
     ]
    },
    {
     "name": "stdout",
     "output_type": "stream",
     "text": [
      "647699403989058266\n"
     ]
    },
    {
     "name": "stderr",
     "output_type": "stream",
     "text": [
      "100%|███████████████████████████████████████| 7155/7155 [12:48<00:00,  9.31it/s]\n"
     ]
    },
    {
     "data": {
      "text/html": [
       "<div>\n",
       "<style scoped>\n",
       "    .dataframe tbody tr th:only-of-type {\n",
       "        vertical-align: middle;\n",
       "    }\n",
       "\n",
       "    .dataframe tbody tr th {\n",
       "        vertical-align: top;\n",
       "    }\n",
       "\n",
       "    .dataframe thead th {\n",
       "        text-align: right;\n",
       "    }\n",
       "</style>\n",
       "<table border=\"1\" class=\"dataframe\">\n",
       "  <thead>\n",
       "    <tr style=\"text-align: right;\">\n",
       "      <th></th>\n",
       "      <th>ra</th>\n",
       "      <th>dec</th>\n",
       "      <th>midpointMjdTai</th>\n",
       "      <th>type</th>\n",
       "      <th>id</th>\n",
       "      <th>on_source</th>\n",
       "      <th>real</th>\n",
       "    </tr>\n",
       "    <tr>\n",
       "      <th>diaSourceId</th>\n",
       "      <th></th>\n",
       "      <th></th>\n",
       "      <th></th>\n",
       "      <th></th>\n",
       "      <th></th>\n",
       "      <th></th>\n",
       "      <th></th>\n",
       "    </tr>\n",
       "  </thead>\n",
       "  <tbody>\n",
       "    <tr>\n",
       "      <th>104057445445271766</th>\n",
       "      <td>55.810521</td>\n",
       "      <td>-32.439969</td>\n",
       "      <td>59840.233977</td>\n",
       "      <td>star</td>\n",
       "      <td>31411437889</td>\n",
       "      <td>1</td>\n",
       "      <td>1</td>\n",
       "    </tr>\n",
       "    <tr>\n",
       "      <th>104057445445271773</th>\n",
       "      <td>55.685438</td>\n",
       "      <td>-32.420221</td>\n",
       "      <td>59840.233977</td>\n",
       "      <td>star</td>\n",
       "      <td>31107745884</td>\n",
       "      <td>1</td>\n",
       "      <td>1</td>\n",
       "    </tr>\n",
       "    <tr>\n",
       "      <th>104057445445271824</th>\n",
       "      <td>55.838160</td>\n",
       "      <td>-32.416255</td>\n",
       "      <td>59840.233977</td>\n",
       "      <td>star</td>\n",
       "      <td>31405691981</td>\n",
       "      <td>1</td>\n",
       "      <td>1</td>\n",
       "    </tr>\n",
       "    <tr>\n",
       "      <th>104057445445271838</th>\n",
       "      <td>55.879441</td>\n",
       "      <td>-32.413054</td>\n",
       "      <td>59840.233977</td>\n",
       "      <td>star</td>\n",
       "      <td>31411435379</td>\n",
       "      <td>1</td>\n",
       "      <td>1</td>\n",
       "    </tr>\n",
       "    <tr>\n",
       "      <th>104057445445271862</th>\n",
       "      <td>55.816092</td>\n",
       "      <td>-32.372750</td>\n",
       "      <td>59840.233977</td>\n",
       "      <td>star</td>\n",
       "      <td>31107745011</td>\n",
       "      <td>1</td>\n",
       "      <td>1</td>\n",
       "    </tr>\n",
       "    <tr>\n",
       "      <th>...</th>\n",
       "      <td>...</td>\n",
       "      <td>...</td>\n",
       "      <td>...</td>\n",
       "      <td>...</td>\n",
       "      <td>...</td>\n",
       "      <td>...</td>\n",
       "      <td>...</td>\n",
       "    </tr>\n",
       "    <tr>\n",
       "      <th>510734470488260694</th>\n",
       "      <td>55.966513</td>\n",
       "      <td>-32.222557</td>\n",
       "      <td>60973.167688</td>\n",
       "      <td>star</td>\n",
       "      <td>30321355633</td>\n",
       "      <td>1</td>\n",
       "      <td>1</td>\n",
       "    </tr>\n",
       "    <tr>\n",
       "      <th>554641942630105130</th>\n",
       "      <td>55.792227</td>\n",
       "      <td>-32.292353</td>\n",
       "      <td>61101.060926</td>\n",
       "      <td>star</td>\n",
       "      <td>30830343259</td>\n",
       "      <td>1</td>\n",
       "      <td>1</td>\n",
       "    </tr>\n",
       "    <tr>\n",
       "      <th>627179613616865357</th>\n",
       "      <td>55.831304</td>\n",
       "      <td>-32.192921</td>\n",
       "      <td>61297.243962</td>\n",
       "      <td>star</td>\n",
       "      <td>31405665055</td>\n",
       "      <td>1</td>\n",
       "      <td>1</td>\n",
       "    </tr>\n",
       "    <tr>\n",
       "      <th>645816020564443153</th>\n",
       "      <td>55.861250</td>\n",
       "      <td>-32.394682</td>\n",
       "      <td>61343.105723</td>\n",
       "      <td>star</td>\n",
       "      <td>31405689453</td>\n",
       "      <td>1</td>\n",
       "      <td>1</td>\n",
       "    </tr>\n",
       "    <tr>\n",
       "      <th>647699403989058266</th>\n",
       "      <td>55.679088</td>\n",
       "      <td>-32.198748</td>\n",
       "      <td>61356.103080</td>\n",
       "      <td>star</td>\n",
       "      <td>31405664797</td>\n",
       "      <td>1</td>\n",
       "      <td>1</td>\n",
       "    </tr>\n",
       "  </tbody>\n",
       "</table>\n",
       "<p>101 rows × 7 columns</p>\n",
       "</div>"
      ],
      "text/plain": [
       "                           ra        dec  midpointMjdTai  type           id  \\\n",
       "diaSourceId                                                                   \n",
       "104057445445271766  55.810521 -32.439969    59840.233977  star  31411437889   \n",
       "104057445445271773  55.685438 -32.420221    59840.233977  star  31107745884   \n",
       "104057445445271824  55.838160 -32.416255    59840.233977  star  31405691981   \n",
       "104057445445271838  55.879441 -32.413054    59840.233977  star  31411435379   \n",
       "104057445445271862  55.816092 -32.372750    59840.233977  star  31107745011   \n",
       "...                       ...        ...             ...   ...          ...   \n",
       "510734470488260694  55.966513 -32.222557    60973.167688  star  30321355633   \n",
       "554641942630105130  55.792227 -32.292353    61101.060926  star  30830343259   \n",
       "627179613616865357  55.831304 -32.192921    61297.243962  star  31405665055   \n",
       "645816020564443153  55.861250 -32.394682    61343.105723  star  31405689453   \n",
       "647699403989058266  55.679088 -32.198748    61356.103080  star  31405664797   \n",
       "\n",
       "                    on_source  real  \n",
       "diaSourceId                          \n",
       "104057445445271766          1     1  \n",
       "104057445445271773          1     1  \n",
       "104057445445271824          1     1  \n",
       "104057445445271838          1     1  \n",
       "104057445445271862          1     1  \n",
       "...                       ...   ...  \n",
       "510734470488260694          1     1  \n",
       "554641942630105130          1     1  \n",
       "627179613616865357          1     1  \n",
       "645816020564443153          1     1  \n",
       "647699403989058266          1     1  \n",
       "\n",
       "[101 rows x 7 columns]"
      ]
     },
     "execution_count": 32,
     "metadata": {},
     "output_type": "execute_result"
    }
   ],
   "source": [
    "# Stage 2: Match sources in time.\n",
    "\n",
    "matched_index = dia_detections[\"on_source\"] > 0\n",
    "matched = {}\n",
    "matched[\"sn\"] = dia_detections.loc[dia_idx_sn]\n",
    "matched[\"star\"] = dia_detections.loc[dia_idx_stars]\n",
    "\n",
    "\n",
    "for s in [\"sn\", \"star\"]:\n",
    "    print(f\"working on class: {s}\")\n",
    "    \n",
    "    # Get a list of all the unique MJDs of sources that matched in the previous stage for the object type.\n",
    "    mjd_matched_in_space = matched[s].midpointMjdTai.unique()\n",
    "\n",
    "    # Get min and max MJD values required for matching.\n",
    "    max_mjd, min_mjd = mjd_matched_in_space.max(), mjd_matched_in_space.min()\n",
    "\n",
    "    # Read star/sn lightcurve variability parquet for the object type\n",
    "    df_var = pd.read_parquet(var_path[s])\n",
    "    \n",
    "    # Filter out records with unwanted MJDs.\n",
    "    df_var = df_var[(df_var.MJD >= min_mjd) & (df_var.MJD <= max_mjd)]\n",
    "    print(f\"need to examine {len(df_var)} variability entries\")\n",
    "    \n",
    "    for detected in tqdm(matched[s].index): #loop over indices of on_source detection \n",
    "        mask_matching_ids = df_var.id == matched[s].loc[detected].id #mask for sources with matching id in variability file \n",
    "        if np.any(np.abs(df_var[mask_matching_ids].MJD - matched[s].loc[detected].midpointMjdTai) <= MJD_tolerance):\n",
    "            dia_detections.loc[detected, \"real\"] = 1\n",
    "            print(detected)\n",
    "    del df_var\n",
    "\n",
    "dia_detections[dia_detections.real == 1]"
   ]
  },
  {
   "cell_type": "code",
   "execution_count": null,
   "id": "fc9db2ec-50ee-44ed-a1b2-321c380373f6",
   "metadata": {},
   "outputs": [],
   "source": []
  }
 ],
 "metadata": {
  "kernelspec": {
   "display_name": "Python 3 (ipykernel)",
   "language": "python",
   "name": "python3"
  },
  "language_info": {
   "codemirror_mode": {
    "name": "ipython",
    "version": 3
   },
   "file_extension": ".py",
   "mimetype": "text/x-python",
   "name": "python",
   "nbconvert_exporter": "python",
   "pygments_lexer": "ipython3",
   "version": "3.11.4"
  }
 },
 "nbformat": 4,
 "nbformat_minor": 5
}
